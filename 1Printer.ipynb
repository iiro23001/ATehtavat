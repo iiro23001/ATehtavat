{
 "cells": [
  {
   "cell_type": "code",
   "execution_count": 43,
   "metadata": {},
   "outputs": [
    {
     "name": "stdout",
     "output_type": "stream",
     "text": [
      "Hello, this is my first python code\n",
      "['False', 'None', 'True', 'and', 'as', 'assert', 'async', 'await', 'break', 'class', 'continue', 'def', 'del', 'elif', 'else', 'except', 'finally', 'for', 'from', 'global', 'if', 'import', 'in', 'is', 'lambda', 'nonlocal', 'not', 'or', 'pass', 'raise', 'return', 'try', 'while', 'with', 'yield']\n",
      "Printer App\n",
      "Hello, this app is made by: Iiro\n",
      "5\n",
      "Value of number2 is 3\n",
      "30\n",
      "-1\n",
      "11\n"
     ]
    }
   ],
   "source": [
    "## Comment\n",
    "print(\"Hello, this is my first python code\")\n",
    "import keyword\n",
    "print (keyword.kwlist)\n",
    "print (\"Printer App\")\n",
    "print (\"Hello, this app is made by:\", (mystring))\n",
    "\n",
    "mystring = \"Iiro\"\n",
    "#print (mystring)\n",
    "\n",
    "Number1 = 5\n",
    "Number2 = 6\n",
    "\n",
    "print (Number1)     #Number 1 is 30\n",
    "print (\"Value of number2 is 3\")\n",
    "multiplication = int\n",
    "Number1 * Number2 == multiplication\n",
    "print (Number1 * Number2)\n",
    "\n",
    "substraction = Number1 - Number2 \n",
    "\n",
    "print (substraction)\n",
    "\n",
    "sum = Number1 + Number2 \n",
    "print (sum)\n",
    "\n",
    "\n"
   ]
  }
 ],
 "metadata": {
  "kernelspec": {
   "display_name": "Python 3",
   "language": "python",
   "name": "python3"
  },
  "language_info": {
   "codemirror_mode": {
    "name": "ipython",
    "version": 3
   },
   "file_extension": ".py",
   "mimetype": "text/x-python",
   "name": "python",
   "nbconvert_exporter": "python",
   "pygments_lexer": "ipython3",
   "version": "3.12.0"
  }
 },
 "nbformat": 4,
 "nbformat_minor": 2
}
