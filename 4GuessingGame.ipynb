{
 "cells": [
  {
   "cell_type": "code",
   "execution_count": 2,
   "metadata": {},
   "outputs": [
    {
     "name": "stdout",
     "output_type": "stream",
     "text": [
      "Onnea!\n",
      "Arvauksia: 3.\n"
     ]
    }
   ],
   "source": [
    "def guessing_game():\n",
    "    secret_name = \"Iiro\"  \n",
    "    guess_count = 0\n",
    "\n",
    "    while True:\n",
    "        user_guess = input(\"Arvaa nimi: \")\n",
    "        guess_count += 1\n",
    "\n",
    "        if user_guess == secret_name:\n",
    "            print(\"Onnea!\")\n",
    "            print(f\"Arvauksia: {guess_count}.\")\n",
    "            break\n",
    "        else:\n",
    "            choice = input(\"Väärin! Yritetäänkö uudestaan? (k/e): \")\n",
    "            if choice.lower() != \"k\":\n",
    "                break\n",
    "\n",
    "guessing_game()\n"
   ]
  }
 ],
 "metadata": {
  "kernelspec": {
   "display_name": "Python 3",
   "language": "python",
   "name": "python3"
  },
  "language_info": {
   "codemirror_mode": {
    "name": "ipython",
    "version": 3
   },
   "file_extension": ".py",
   "mimetype": "text/x-python",
   "name": "python",
   "nbconvert_exporter": "python",
   "pygments_lexer": "ipython3",
   "version": "3.12.0"
  }
 },
 "nbformat": 4,
 "nbformat_minor": 2
}
