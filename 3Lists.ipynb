{
 "cells": [
  {
   "cell_type": "code",
   "execution_count": 22,
   "metadata": {},
   "outputs": [
    {
     "name": "stdout",
     "output_type": "stream",
     "text": [
      "Sohva Kaappi Matto Pöytä\n",
      "('Sohva', 'Kaappi')\n",
      "Sohva\n",
      "4 3 2 5 1\n",
      "15\n",
      "Suurin luku on: 5\n"
     ]
    }
   ],
   "source": [
    "E1 = \"Sohva\"\n",
    "E2 = \"Kaappi\"\n",
    "E3 = \"Matto\"\n",
    "E4 = \"Pöytä\"\n",
    "\n",
    "print (E1, E2, E3, E4)\n",
    "\n",
    "Mylist1 = E1, E2\n",
    "print (Mylist1)\n",
    "\n",
    "if (E1 or E2 or E3 or E4) == (\"Sohva\"):\n",
    "    print (\"Sohva\")\n",
    "else:\n",
    "    print (\"Sohvaa ei listalla.\")\n",
    "\n",
    "\n",
    "a = 4\n",
    "b = 3\n",
    "c = 2\n",
    "d = 5\n",
    "e = 1\n",
    "\n",
    "thrownDiceNumbers = a, b, c, d, e\n",
    "\n",
    "print (a, b, c, d, e)\n",
    "print (a + b + c + d + e)\n",
    "korkein = max(a,b,c,d,e)\n",
    "print (\"Suurin luku on:\", korkein)\n",
    "\n",
    "\n",
    "\n"
   ]
  }
 ],
 "metadata": {
  "kernelspec": {
   "display_name": "Python 3",
   "language": "python",
   "name": "python3"
  },
  "language_info": {
   "codemirror_mode": {
    "name": "ipython",
    "version": 3
   },
   "file_extension": ".py",
   "mimetype": "text/x-python",
   "name": "python",
   "nbconvert_exporter": "python",
   "pygments_lexer": "ipython3",
   "version": "3.12.0"
  }
 },
 "nbformat": 4,
 "nbformat_minor": 2
}
